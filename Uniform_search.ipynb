{
 "cells": [
  {
   "cell_type": "code",
   "execution_count": 1,
   "metadata": {
    "colab": {},
    "colab_type": "code",
    "id": "WxYfRE2JfCph"
   },
   "outputs": [],
   "source": [
    "class Vertex:\n",
    "    def __init__(self, key):\n",
    "        # unique ID for vertex\n",
    "        self.id = key\n",
    "        # dict of connected nodes\n",
    "        self.connected_to = {}\n",
    "    \n",
    "    def add_neighbor(self, neighbor, weight=0):\n",
    "        # Add an entry to the connected_to dict with a given\n",
    "        # weight \n",
    "        self.connected_to[neighbor] = weight\n",
    "        \n",
    "    def __str__(self):\n",
    "        # override __str__ for printing\n",
    "        return(str(self.id) + ' connected to: ' + str([x.id for x in self.connected_to]))\n",
    "    \n",
    "    def get_connections(self):\n",
    "        # return keys from connected_to dict\n",
    "        return self.connected_to.keys()\n",
    "    \n",
    "    def get_id(self):\n",
    "        # return vertex id's\n",
    "        return self.id\n",
    "    \n",
    "    def get_weight(self):\n",
    "        # return weights of edges connected to vertex\n",
    "        return self.connected_to[neighbor]"
   ]
  },
  {
   "cell_type": "code",
   "execution_count": 2,
   "metadata": {
    "colab": {},
    "colab_type": "code",
    "id": "hqUwlBaXfce8"
   },
   "outputs": [],
   "source": [
    "class Graph:\n",
    "    def __init__(self):\n",
    "        # dictionary of vertices\n",
    "        self.vertices_list = {}\n",
    "        # vertex count\n",
    "        self.num_vertices = 0\n",
    "        \n",
    "    def add_vertex(self, key):\n",
    "        # increment counter when adding vertex\n",
    "        self.num_vertices = self.num_vertices + 1\n",
    "        new_vertex = Vertex(key)\n",
    "        self.vertices_list[key] = new_vertex\n",
    "        return new_vertex\n",
    "    \n",
    "    def get_vertex(self, n):\n",
    "        # check if vertex exists, return if True\n",
    "        if n in self.vertices_list:\n",
    "            return self.vertices_list[n]\n",
    "        else:\n",
    "            return None\n",
    "        \n",
    "    def __contains__(self, n):\n",
    "        # override __contains__ to list all vertices in Graph object\n",
    "        return n in self.vertices_list\n",
    "    \n",
    "    def add_edge(self, s, f, cost=0):\n",
    "        # add edge to graph; s = start node; e = end node\n",
    "        if s not in self.vertices_list:\n",
    "            nv = self.add_vertex(s)\n",
    "        if f not in self.vertices_list:\n",
    "            nv = self.add_vertex(f)\n",
    "        self.vertices_list[s].add_neighbor(self.vertices_list[f], cost)\n",
    "        \n",
    "    def get_vertices(self):\n",
    "        # return keys of vertices in Graph\n",
    "        return self.vertices_list.keys()\n",
    "    \n",
    "    def __iter__(self):\n",
    "        # override __iter__ to return iterable of vertices\n",
    "        return iter(self.vertices_list.values())"
   ]
  },
  {
   "cell_type": "code",
   "execution_count": 3,
   "metadata": {
    "colab": {},
    "colab_type": "code",
    "id": "jmGMu7PzfkY7"
   },
   "outputs": [],
   "source": [
    "node_names = [\"A\", \"B\", \"C\", \"D\", \"E\", \"F\"]\n",
    "# Instantiate graph object and add vertices\n",
    "g = Graph()\n",
    "for i in node_names:\n",
    "    g.add_vertex(i)\n",
    "    \n",
    "# add a bunch of edges between vertices\n",
    "g.add_edge('A','B')\n",
    "g.add_edge('B','C')\n",
    "g.add_edge('C','E')\n",
    "g.add_edge('E','D')\n",
    "g.add_edge('D','B')\n",
    "g.add_edge('E','F')\n",
    "g.add_edge('B','E')"
   ]
  },
  {
   "cell_type": "code",
   "execution_count": 4,
   "metadata": {
    "colab": {},
    "colab_type": "code",
    "id": "2SUGIp2GgATq"
   },
   "outputs": [],
   "source": [
    "from collections import deque\n",
    "\n",
    "def breadth_first_search(starting_node, goal_node):\n",
    "    visited_nodes = set()\n",
    "    queue = deque([starting_node])\n",
    "    \n",
    "    while len(queue) > 0:\n",
    "        node = queue.pop()\n",
    "        if node in visited_nodes:\n",
    "            continue\n",
    "        \n",
    "        visited_nodes.add(node)\n",
    "        if node.get_id == goal_node.get_id:\n",
    "            return True\n",
    "        \n",
    "        for n in node.connected_to:\n",
    "            if n not in visited_nodes:\n",
    "                queue.appendleft(n)\n",
    "    return False  \n",
    "  "
   ]
  },
  {
   "cell_type": "code",
   "execution_count": 7,
   "metadata": {
    "colab": {
     "base_uri": "https://localhost:8080/",
     "height": 34
    },
    "colab_type": "code",
    "id": "A8TEMOCWgHLx",
    "outputId": "0ed3f91a-0392-4142-96e1-a71124a66c60"
   },
   "outputs": [
    {
     "name": "stdout",
     "output_type": "stream",
     "text": [
      "There is a path from A to D.\n"
     ]
    }
   ],
   "source": [
    "# breadth_first_search function call to check reachability\n",
    "source = 'A'\n",
    "destination = 'D'\n",
    "reachable = breadth_first_search(g.get_vertex(source), g.get_vertex(destination))\n",
    "if reachable:\n",
    "  print(\"There is a path from {} to {}.\".format(source, destination))\n",
    "else:\n",
    "  print(\"No path exists between {} and {}.\".format(source, destination))"
   ]
  },
  {
   "cell_type": "code",
   "execution_count": null,
   "metadata": {},
   "outputs": [],
   "source": []
  }
 ],
 "metadata": {
  "colab": {
   "name": "Lab1.ipynb",
   "provenance": [],
   "version": "0.3.2"
  },
  "kernelspec": {
   "display_name": "Python 3 (ipykernel)",
   "language": "python",
   "name": "python3"
  },
  "language_info": {
   "codemirror_mode": {
    "name": "ipython",
    "version": 3
   },
   "file_extension": ".py",
   "mimetype": "text/x-python",
   "name": "python",
   "nbconvert_exporter": "python",
   "pygments_lexer": "ipython3",
   "version": "3.8.16"
  }
 },
 "nbformat": 4,
 "nbformat_minor": 1
}
